{
  "nbformat": 4,
  "nbformat_minor": 0,
  "metadata": {
    "colab": {
      "name": "convert_to_wp_table.ipynb",
      "provenance": [],
      "collapsed_sections": [],
      "authorship_tag": "ABX9TyOTLczuVqJZQT75XTgFMpxk",
      "include_colab_link": true
    },
    "kernelspec": {
      "name": "python3",
      "display_name": "Python 3"
    },
    "language_info": {
      "name": "python"
    }
  },
  "cells": [
    {
      "cell_type": "markdown",
      "metadata": {
        "id": "view-in-github",
        "colab_type": "text"
      },
      "source": [
        "<a href=\"https://colab.research.google.com/github/landmaster135/generate-article-for-blog/blob/main/convert_to_wp_table.ipynb\" target=\"_parent\"><img src=\"https://colab.research.google.com/assets/colab-badge.svg\" alt=\"Open In Colab\"/></a>"
      ]
    },
    {
      "cell_type": "code",
      "execution_count": 20,
      "metadata": {
        "colab": {
          "base_uri": "https://localhost:8080/"
        },
        "id": "d_Ke2Z6WAfVE",
        "outputId": "5c7bd7d7-8322-4330-f426-b9986fc71475"
      },
      "outputs": [
        {
          "output_type": "stream",
          "name": "stdout",
          "text": [
            "<figure class=\"wp-block-table\"><table><thead><tr><th>操作の内容</th><th>キー組み合わせ</th></tr></thead><tbody><tr><td>スクリプトの保存</td><td>control(⌃) + S、command(⌘) + S</td></tr>\n",
            "<tr><td>文字カーソルを指定行に移動</td><td>control(⌃) + G</td></tr>\n",
            "<tr><td>改行</td><td>control(⌃) + O</td></tr>\n",
            "<tr><td>検索および置換</td><td>command(⌘) + F</td></tr>\n",
            "<tr><td>選択中の文字列と同じ文字列を複数選択</td><td>command(⌘) + D</td></tr>\n",
            "<tr><td>コメント</td><td>command(⌘) + /</td></tr>\n",
            "<tr><td>選択行にインデントを１段階追加</td><td>tab</td></tr>\n",
            "<tr><td>選択行にインデントを１段階削除</td><td>Shift(⇧) + tab</td></tr>\n",
            "<tr><td>選択中の行の記述を上下に移動</td><td>option(⌥) + ↑ か ↓</td></tr>\n",
            "<tr><td>単語ごとに右方に移動</td><td>option(⌥) + →、option(⌥) + control⌃) + F</td></tr>\n",
            "<tr><td>単語ごとに左方に移動</td><td>option(⌥) + ←、option(⌥) + control⌃) + B</td></tr>\n",
            "<tr><td>選択中の文字列を/*  */形式でコメントアウト</td><td>option(⌥) + Shift(⇧) + A</td></tr>\n",
            "</tbody></table></figure>\n"
          ]
        }
      ],
      "source": [
        "def convert_to_wp_table(src : str, prefix : str, suffix : str, seperator : str) -> str:\n",
        "    row_prefix = \"<tr><td>\"\n",
        "    row_suffix = \"</td></tr>\"\n",
        "    tbl_element_sep = \"</td><td>\"\n",
        "    line_feed = \"\\n\"\n",
        "    tmp_list = src.split(line_feed)\n",
        "    tmp_content = \"\"\n",
        "    for i in tmp_list:\n",
        "        tmp_content += f\"{row_prefix}{i}{row_suffix}{line_feed}\"\n",
        "    tmp_content = tmp_content.replace(seperator, tbl_element_sep)\n",
        "    converted_content = f\"{prefix}{tmp_content}{suffix}\"\n",
        "    return converted_content\n",
        "    \n",
        "\n",
        "content = \"\"\"スクリプトの保存：control(⌃) + S、command(⌘) + S\n",
        "文字カーソルを指定行に移動：control(⌃) + G\n",
        "改行：control(⌃) + O\n",
        "検索および置換：command(⌘) + F\n",
        "選択中の文字列と同じ文字列を複数選択：command(⌘) + D\n",
        "コメント：command(⌘) + /\n",
        "選択行にインデントを１段階追加：tab\n",
        "選択行にインデントを１段階削除：Shift(⇧) + tab\n",
        "選択中の行の記述を上下に移動：option(⌥) + ↑ か ↓\n",
        "単語ごとに右方に移動：option(⌥) + →、option(⌥) + control⌃) + F\n",
        "単語ごとに左方に移動：option(⌥) + ←、option(⌥) + control⌃) + B\n",
        "選択中の文字列を/*  */形式でコメントアウト：option(⌥) + Shift(⇧) + A\"\"\"\n",
        "\n",
        "prefix = \"<figure class=\\\"wp-block-table\\\"><table><thead><tr><th>操作の内容</th><th>キー組み合わせ</th></tr></thead><tbody>\"\n",
        "suffix = \"</tbody></table></figure>\"\n",
        "seperator = \"：\"\n",
        "\n",
        "converted_content = convert_to_wp_table(content, prefix, suffix, seperator)\n",
        "\n",
        "print(converted_content)\n",
        "\n",
        "\n"
      ]
    },
    {
      "cell_type": "code",
      "source": [
        ""
      ],
      "metadata": {
        "id": "So3SXhpcDqK6"
      },
      "execution_count": null,
      "outputs": []
    }
  ]
}